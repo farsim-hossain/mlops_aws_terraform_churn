{
 "cells": [
  {
   "cell_type": "code",
   "execution_count": 78,
   "id": "e902b3cc",
   "metadata": {},
   "outputs": [],
   "source": [
    "import predictor"
   ]
  },
  {
   "cell_type": "code",
   "execution_count": 79,
   "id": "5893200e",
   "metadata": {},
   "outputs": [],
   "source": [
    "import pandas as pd"
   ]
  },
  {
   "cell_type": "code",
   "execution_count": 97,
   "id": "29656ba7",
   "metadata": {},
   "outputs": [],
   "source": [
    "df = pd.read_csv(\"../input/Churn_Modelling.csv\")"
   ]
  },
  {
   "cell_type": "code",
   "execution_count": 98,
   "id": "0373c686",
   "metadata": {},
   "outputs": [],
   "source": [
    "df_head = df.head(5)"
   ]
  },
  {
   "cell_type": "code",
   "execution_count": 99,
   "id": "f215fba3",
   "metadata": {},
   "outputs": [
    {
     "name": "stderr",
     "output_type": "stream",
     "text": [
      "d:\\External\\Dezyre-EKS\\python-env\\lib\\site-packages\\pandas\\core\\frame.py:4901: SettingWithCopyWarning: \n",
      "A value is trying to be set on a copy of a slice from a DataFrame\n",
      "\n",
      "See the caveats in the documentation: https://pandas.pydata.org/pandas-docs/stable/user_guide/indexing.html#returning-a-view-versus-a-copy\n",
      "  return super().drop(\n"
     ]
    },
    {
     "name": "stdout",
     "output_type": "stream",
     "text": [
      "(1, 12)\n",
      "  Surname  CreditScore Geography  Gender  Age  Tenure   Balance  \\\n",
      "0    Onio          502    France  Female   42       8  159660.8   \n",
      "\n",
      "   NumOfProducts  HasCrCard  IsActiveMember  EstimatedSalary  \\\n",
      "0              3          1               0        113931.57   \n",
      "\n",
      "   pred_probabilities  \n",
      "0            0.964485  \n"
     ]
    }
   ],
   "source": [
    "gf = predictor.predict(df_head)"
   ]
  },
  {
   "cell_type": "code",
   "execution_count": 96,
   "id": "d41508dd",
   "metadata": {},
   "outputs": [
    {
     "data": {
      "text/plain": [
       "Index(['Surname', 'CreditScore', 'Geography', 'Gender', 'Age', 'Tenure',\n",
       "       'Balance', 'NumOfProducts', 'HasCrCard', 'IsActiveMember',\n",
       "       'EstimatedSalary', 'pred_probabilities'],\n",
       "      dtype='object')"
      ]
     },
     "execution_count": 96,
     "metadata": {},
     "output_type": "execute_result"
    }
   ],
   "source": [
    "gf.columns"
   ]
  },
  {
   "cell_type": "code",
   "execution_count": 84,
   "id": "6b9f9686-2cd8-46c7-97b1-27687cdbd9eb",
   "metadata": {},
   "outputs": [
    {
     "data": {
      "text/html": [
       "<div>\n",
       "<style scoped>\n",
       "    .dataframe tbody tr th:only-of-type {\n",
       "        vertical-align: middle;\n",
       "    }\n",
       "\n",
       "    .dataframe tbody tr th {\n",
       "        vertical-align: top;\n",
       "    }\n",
       "\n",
       "    .dataframe thead th {\n",
       "        text-align: right;\n",
       "    }\n",
       "</style>\n",
       "<table border=\"1\" class=\"dataframe\">\n",
       "  <thead>\n",
       "    <tr style=\"text-align: right;\">\n",
       "      <th></th>\n",
       "      <th>Surname</th>\n",
       "      <th>CreditScore</th>\n",
       "      <th>Geography</th>\n",
       "      <th>Gender</th>\n",
       "      <th>Age</th>\n",
       "      <th>Tenure</th>\n",
       "      <th>Balance</th>\n",
       "      <th>NumOfProducts</th>\n",
       "      <th>HasCrCard</th>\n",
       "      <th>IsActiveMember</th>\n",
       "      <th>EstimatedSalary</th>\n",
       "      <th>pred_probabilities</th>\n",
       "    </tr>\n",
       "  </thead>\n",
       "  <tbody>\n",
       "  </tbody>\n",
       "</table>\n",
       "</div>"
      ],
      "text/plain": [
       "Empty DataFrame\n",
       "Columns: [Surname, CreditScore, Geography, Gender, Age, Tenure, Balance, NumOfProducts, HasCrCard, IsActiveMember, EstimatedSalary, pred_probabilities]\n",
       "Index: []"
      ]
     },
     "execution_count": 84,
     "metadata": {},
     "output_type": "execute_result"
    }
   ],
   "source": [
    "gf"
   ]
  },
  {
   "cell_type": "code",
   "execution_count": 101,
   "id": "4d977c87",
   "metadata": {},
   "outputs": [
    {
     "data": {
      "text/plain": [
       "[{'Surname': 'Hargrave',\n",
       "  'CreditScore': 619,\n",
       "  'Geography': 'France',\n",
       "  'Gender': 'Female',\n",
       "  'Age': 42,\n",
       "  'Tenure': 2,\n",
       "  'Balance': 0.0,\n",
       "  'NumOfProducts': 1,\n",
       "  'HasCrCard': 1,\n",
       "  'IsActiveMember': 1,\n",
       "  'EstimatedSalary': 101348.88},\n",
       " {'Surname': 'Hill',\n",
       "  'CreditScore': 608,\n",
       "  'Geography': 'Spain',\n",
       "  'Gender': 'Female',\n",
       "  'Age': 41,\n",
       "  'Tenure': 1,\n",
       "  'Balance': 83807.86,\n",
       "  'NumOfProducts': 1,\n",
       "  'HasCrCard': 0,\n",
       "  'IsActiveMember': 1,\n",
       "  'EstimatedSalary': 112542.58},\n",
       " {'Surname': 'Onio',\n",
       "  'CreditScore': 502,\n",
       "  'Geography': 'France',\n",
       "  'Gender': 'Female',\n",
       "  'Age': 42,\n",
       "  'Tenure': 8,\n",
       "  'Balance': 159660.8,\n",
       "  'NumOfProducts': 3,\n",
       "  'HasCrCard': 1,\n",
       "  'IsActiveMember': 0,\n",
       "  'EstimatedSalary': 113931.57},\n",
       " {'Surname': 'Boni',\n",
       "  'CreditScore': 699,\n",
       "  'Geography': 'France',\n",
       "  'Gender': 'Female',\n",
       "  'Age': 39,\n",
       "  'Tenure': 1,\n",
       "  'Balance': 0.0,\n",
       "  'NumOfProducts': 2,\n",
       "  'HasCrCard': 0,\n",
       "  'IsActiveMember': 0,\n",
       "  'EstimatedSalary': 93826.63},\n",
       " {'Surname': 'Mitchell',\n",
       "  'CreditScore': 850,\n",
       "  'Geography': 'Spain',\n",
       "  'Gender': 'Female',\n",
       "  'Age': 43,\n",
       "  'Tenure': 2,\n",
       "  'Balance': 125510.82,\n",
       "  'NumOfProducts': 1,\n",
       "  'HasCrCard': 1,\n",
       "  'IsActiveMember': 1,\n",
       "  'EstimatedSalary': 79084.1}]"
      ]
     },
     "execution_count": 101,
     "metadata": {},
     "output_type": "execute_result"
    }
   ],
   "source": [
    "import json\n",
    "json.loads(df_head.to_json(orient=\"records\"))"
   ]
  },
  {
   "cell_type": "code",
   "execution_count": null,
   "id": "e6156169",
   "metadata": {},
   "outputs": [],
   "source": []
  }
 ],
 "metadata": {
  "kernelspec": {
   "display_name": "Python 3 (ipykernel)",
   "language": "python",
   "name": "python3"
  },
  "language_info": {
   "codemirror_mode": {
    "name": "ipython",
    "version": 3
   },
   "file_extension": ".py",
   "mimetype": "text/x-python",
   "name": "python",
   "nbconvert_exporter": "python",
   "pygments_lexer": "ipython3",
   "version": "3.9.2"
  }
 },
 "nbformat": 4,
 "nbformat_minor": 5
}
